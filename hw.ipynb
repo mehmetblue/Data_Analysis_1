{
 "cells": [
  {
   "cell_type": "markdown",
   "metadata": {},
   "source": [
    "# Data_Analysis_1\n",
    "Numpy\n",
    " \n",
    "1.\tNumpy’da Vektor ve Matrisin farkini tek cumle ile ifade ediniz.\n",
    "2.\t10 elemanli bir listeden NumPy Array’i olusturunuz.\n",
    "3.\tIcerisinde ‘0’ lar olan, ve veri tipi integer olan 10X10’luk bir matris olusturunuz.\n",
    "4.\tIcerisinde ‘1’ ler olan, veri tipi float olan 10X10’luk bir matris olusturunuz.\n",
    "5.\tIcerisinde ‘9’ lar olan, veri tipi integer olan 10X10’luk bir matris olusturunuz.\n",
    "6.\t5 ile 25 arasinda, 3’er 3’er atlayan tek boyutlu bir Array olusturunuz.\n",
    "7.\t-1 ile 1 arasinda 30 adet Array olusturunuz.\n",
    "8.\t0 ile 30 arasinda 5x6’lik bir matris olusturun.\n",
    "9.\tKosegenleri 1 olan 10x10’luk bir matris olusturunuz.\n",
    "10.\t0 ile 10 arasinda 5x10’lik bir matris olusturun. (integer) ve bu matrisin;\n",
    "•\teleman sayisini\n",
    "•\tboyut bilgisini/sayisini\n",
    "•\tsatir X sutun bilgisini\n",
    "•\tveri tipini numpy metodlariyla yazdiriniz.\n",
    "11.\t0 ile 10 arasindaki degerlerden olusan 3 adet 4x7’lik bir matris olusturunuz. (3 boyutlu bir matris olusturulacak)\n",
    "12.\tBir vektor olusturunuz ve daha sonrasinda ayni vektoru bir matrise ceviriniz. (boyut sayisini degistirin.)\n",
    "13.\t4 tane ayri tek boyutlu array’i birlestirerek bir array olusturunuz.\n",
    "14.\t2 boyutlu bir vektor ve bir matris olusturun(ayri ayri), bu iki arrayi numpy metodlarini kullanarak sutun bazli birlestiriniz,\n",
    "15.\tNumpy’da “axis=1” ve “axis=0” arasinda ne fark vardir. Teorik olarak yaziniz?\n",
    "16.\tFarkli boyutlardaki arraylari satin ve sutun bazli ayri ayri birlestiriniz.\n",
    "17.\t10 elemanli bi liste olusturunuz ve bu listeyi Numpy metodlariyla bolerek(split) 5 ayri array olusturunuz.\n",
    "18.\tRandom bir array olusturunuz ve bu arrayi buyukten kucuge dogru siralayiniz.Ve bu siralamadan sonra hangi elemanin hangi indexte oldugunu gosteren bir metod uygulayiniz.\n",
    "19.\t20 elemanli random bir vektor olusturunuz. Bu vektorun 3. 5. ve 7. elemanlarina ulasin.\n",
    "20.\t10 elemanli random bir vektor olusturunuz ve bu arrayin 4. elemanini farkli bir sayiyla degistiriniz.\n",
    "21.\t“Diagonal Matrix” ve “Trace of Matrix” kavramlari hakkinda kucuk bir arastirma yapip bunlarin ne oldugunu belirten kucuk bir aciklama yaziniz.\n",
    "22.\t5x5’lik Diagonal bir matris olusturunuz ve Diagonaline denk gelen indexlere ulasiniz.(ayri ayri)\n",
    "23.\t10 ile 20 arasinda bir vektor olusturunuz. Ve 3. indexten son indexe kadar olan degerleri yazdiriniz.\n",
    "24.\t10X10 luk bir matris olusturunuz ve ;\n",
    "•\t3.satir ve 5.sutuna ulasiniz.\n",
    "•\t5.sutunun tum satirlarina ulasiniz.\n",
    "•\tTum sutunlarin 2.satirlarina ulasiniz.\n",
    "•\ttum sutunlarin 2 ile 7 arasindaki satirlarina ulasiniz.\n",
    "•\tsatir indexi 2’den 5’e ve sutun indexi 3 den 7’ye kadar olan degerlere ulasiniz.\n",
    "•\tsatir indexi 5’den en sona ve sutun indexi en bastan 4’e kadar olan degerlere ulasiniz.\n",
    "•\tsutun indexi sadece 3, 6, 9 olan kolonlarin(sutunlarin), tum satirlarina ulasiniz.\n",
    "•\t5.indexli satir ve 5.indexli sutuna denk gelen degeri, dogum yilinizla degistiriniz.\n",
    "25.\t0’dan 50’ye kadar 5’er 5’er atlayarak giden bir array olusturunuz(tek boyutlu) ve numpy metodlariyla asagidaki islemleri uygulayin;\n",
    "•\t20 den buyuk olan kac deger var.\n",
    "•\t30’dan kucuk kac deger var\n",
    "•\ticerisinde 33 gecen kac deger var\n",
    "•\tolusturulan arrayin tum elemanlarini 5 ile carpin.\n",
    "•\tolusturulan arrayin tum elemanlarinin 2 ile bolumunden kalanlari yazdiriniz.\n",
    "26.\t0 ile 1 arasinda 50 elamanli bir array olusturunuz ve;\n",
    "•\torlamasini aliniz.\n",
    "•\tstandart sapmasini aliniz.\n",
    "•\tvaryansini aliniz.\n",
    "•\tmedian’ini aliniz.\n",
    "•\ten kucuk degeri bulunuz.\n",
    "•\ten buyuk degeri bulunuz.\n",
    "Master odev ;\n",
    "Bir dongu icerisinde random olacak sekilde iki tane 20x20’luk matris uretin ve bu matrislerin farklarini alin. Ve fark matrisinin diagonali, -0.1 ile 0.1 arasinda olana kadar bu islemi tekrarlayin. Istenilen matris bulundugunda program dursun ve toplam kac dongunun kuruldugunu, ne kadar sure icinde buldugunu ve istenilen matrisi print ile birlikte ekrana yazdiriniz... Tavsiye: 20 x 20 luk matrisin bulunmasi saatler surebilir. Bu yuzden algoritmanizin dogrulugunu test etmek icin once 4x4, 5x5 gibi kucuk matrislerde deneyebilirsiniz. Ve matris sayisisini arttirarak en son 20x20 u deneyebilirsiniz."
   ]
  },
  {
   "cell_type": "code",
   "execution_count": null,
   "metadata": {},
   "outputs": [],
   "source": [
    "import numpy as np"
   ]
  },
  {
   "cell_type": "code",
   "execution_count": null,
   "metadata": {},
   "outputs": [],
   "source": [
    "# Q1. Numpy’da Vektor ve Matrisin farkini tek cumle ile ifade ediniz.\n",
    "# A1. Vektörler tek boyutlu, matrisler çok boyutlu dizelerdir."
   ]
  },
  {
   "cell_type": "code",
   "execution_count": null,
   "metadata": {},
   "outputs": [],
   "source": [
    "# Q2. 10 elemanli bir listeden NumPy Array’i olusturunuz.\n",
    "\n",
    "lst = list(range(10))\n",
    "print('list  : ', lst)\n",
    "\n",
    "na = np.array(lst)\n",
    "print('array : ', na)"
   ]
  },
  {
   "cell_type": "code",
   "execution_count": null,
   "metadata": {},
   "outputs": [],
   "source": [
    "# Q3. Icerisinde ‘0’ lar olan, ve veri tipi integer olan 10X10’luk bir matris olusturunuz.\n",
    "\n",
    "np.zeros((10, 10), dtype=int) # dtype verilmez ise float olarak dolduruyor."
   ]
  },
  {
   "cell_type": "code",
   "execution_count": null,
   "metadata": {},
   "outputs": [],
   "source": [
    "# Q4. Icerisinde ‘1’ ler olan, veri tipi float olan 10X10’luk bir matris olusturunuz.\n",
    "\n",
    "np.ones((10,10), dtype=float)"
   ]
  },
  {
   "cell_type": "code",
   "execution_count": null,
   "metadata": {},
   "outputs": [],
   "source": [
    "# Q5. Icerisinde ‘9’ lar olan, veri tipi integer olan 10X10’luk bir matris olusturunuz.\n",
    "\n",
    "np.full((10, 10), 9)"
   ]
  },
  {
   "cell_type": "code",
   "execution_count": null,
   "metadata": {},
   "outputs": [],
   "source": [
    "# Q6. 5 ile 25 arasinda, 3’er 3’er atlayan tek boyutlu bir Array olusturunuz.\n",
    "\n",
    "np.arange(5, 25, 3)"
   ]
  },
  {
   "cell_type": "code",
   "execution_count": null,
   "metadata": {},
   "outputs": [],
   "source": [
    "# Q7. -1 ile 1 arasinda 30 adet Array olusturunuz.\n",
    "\n",
    "np.linspace(-1, 1, 30)"
   ]
  },
  {
   "cell_type": "code",
   "execution_count": null,
   "metadata": {},
   "outputs": [],
   "source": [
    "# Q8. 0 ile 30 arasinda 5x6’lik bir matris olusturun.\n",
    "\n",
    "np.random.randint(0, 30, (5,6))"
   ]
  },
  {
   "cell_type": "code",
   "execution_count": null,
   "metadata": {},
   "outputs": [],
   "source": [
    "# Q9. Kosegenleri 1 olan 10x10’luk bir matris olusturunuz.\n",
    "\n",
    "x = np.eye(10)\n",
    "print(x)\n",
    "print()\n",
    "np.fill_diagonal(np.flipud(x), 1)\n",
    "print(x)"
   ]
  },
  {
   "cell_type": "code",
   "execution_count": null,
   "metadata": {},
   "outputs": [],
   "source": [
    "# Q10. 0 ile 10 arasinda 5x10’lik bir matris olusturun. (integer) ve bu matrisin; \n",
    "# • eleman sayisini \n",
    "# • boyut bilgisini/sayisini \n",
    "# • satir X sutun bilgisini \n",
    "# • veri tipini numpy metodlariyla yazdiriniz.\n",
    "\n",
    "x = np.random.randint(0, 10, (5,10))\n",
    "print(x)\n",
    "print()\n",
    "print('eleman sayisi            : ', x.size)\n",
    "print('boyut bilgisini/sayisi   : ', x.ndim)\n",
    "print('satir X sutun bilgisi    : ', x.shape)\n",
    "print('veri tipi                : ', x.dtype)"
   ]
  },
  {
   "cell_type": "code",
   "execution_count": null,
   "metadata": {},
   "outputs": [],
   "source": [
    "# Q11. 0 ile 10 arasindaki degerlerden olusan 3 adet 4x7’lik bir matris olusturunuz. (3 boyutlu bir matris olusturulacak)\n",
    "\n",
    "x = np.random.randint(10, size=(3, 4, 7))\n",
    "x"
   ]
  },
  {
   "cell_type": "code",
   "execution_count": null,
   "metadata": {},
   "outputs": [],
   "source": [
    "# Q12. Bir vektor olusturunuz ve daha sonrasinda ayni vektoru bir matrise ceviriniz. (boyut sayisini degistirin.)\n",
    "\n",
    "x = np.arange(20)\n",
    "print(x)\n",
    "print()\n",
    "\n",
    "x = x.reshape(5, 4)\n",
    "print(x)"
   ]
  },
  {
   "cell_type": "code",
   "execution_count": null,
   "metadata": {},
   "outputs": [],
   "source": [
    "# Q13. 4 tane ayri tek boyutlu array’i birlestirerek bir array olusturunuz.\n",
    "\n",
    "a = np.arange(1, 5)\n",
    "b = np.arange(6, 10)\n",
    "c = np.arange(11, 15)\n",
    "d = np.arange(16, 20)\n",
    "\n",
    "print(a)\n",
    "print(b)\n",
    "print(c)\n",
    "print(d)\n",
    "\n",
    "print()\n",
    "\n",
    "e = np.concatenate((a, b, c, d), axis=0)\n",
    "print(e)"
   ]
  },
  {
   "cell_type": "code",
   "execution_count": null,
   "metadata": {},
   "outputs": [],
   "source": [
    "# Q14. 2 boyutlu bir vektor ve bir matris olusturun(ayri ayri), bu iki arrayi numpy metodlarini kullanarak sutun bazli birlestiriniz,\n",
    "\n",
    "x = np.random.randint(10, size=(2, 3))\n",
    "print(x)\n",
    "print()\n",
    "\n",
    "y = np.array([[1, 2, 3], [4, 5, 6]])\n",
    "print(y)\n",
    "print()\n",
    "\n",
    "z = np.concatenate((x, y),axis=0)\n",
    "print(z)"
   ]
  },
  {
   "cell_type": "code",
   "execution_count": null,
   "metadata": {},
   "outputs": [],
   "source": [
    "# Q15. Numpy’da “axis=1” ve “axis=0” arasinda ne fark vardir. Teorik olarak yaziniz?\n",
    "\n",
    "# axis=1: apply the method on \"row-wise\"\n",
    "# axis=0: apply the method on \"column-wise\""
   ]
  },
  {
   "cell_type": "code",
   "execution_count": null,
   "metadata": {},
   "outputs": [],
   "source": [
    "# Q16. Farklı boyutlardaki arrayleri satır ve sutun bazlı ayrı ayrı birlestiriniz.\n",
    "x = np.arange(4)\n",
    "print(x)\n",
    "print()\n",
    "\n",
    "y = np.arange(16).reshape(4, 4)\n",
    "print(y)\n",
    "print()\n",
    "\n",
    "z = np.vstack((x, y))\n",
    "print(z)\n",
    "print()\n",
    "\n",
    "# boyutlari farkli olduğu için hata verecektir.\n",
    "t = np.hstack((x, y))\n",
    "print(t)"
   ]
  },
  {
   "cell_type": "code",
   "execution_count": null,
   "metadata": {},
   "outputs": [],
   "source": [
    "# Q17. 10 elemanli bi liste olusturunuz ve bu listeyi Numpy metodlariyla bolerek(split) 5 ayri array olusturunuz.\n",
    "\n",
    "lst = list(range(10))\n",
    "print(lst)\n",
    "print()\n",
    "\n",
    "x = np.array(lst)\n",
    "print(x)\n",
    "print()\n",
    "\n",
    "x = np.split(x, 5)\n",
    "print(x)"
   ]
  },
  {
   "cell_type": "code",
   "execution_count": null,
   "metadata": {},
   "outputs": [],
   "source": [
    "# Q18. Random bir array olusturunuz ve bu arrayi buyukten kucuge dogru siralayiniz.Ve bu siralamadan sonra hangi elemanin hangi indexte oldugunu gosteren bir metod uygulayiniz.\n",
    "\n",
    "x = np.random.randint(10, size=10)\n",
    "print(x)\n",
    "print(np.sort(x))\n",
    "print(np.argsort(x))\n"
   ]
  },
  {
   "cell_type": "code",
   "execution_count": null,
   "metadata": {},
   "outputs": [],
   "source": [
    "# Q19. 20 elemanli random bir vektor olusturunuz. Bu vektorun 3. 5. ve 7. elemanlarina ulasin.\n",
    "\n",
    "x = np.random.randint(100, size=20)\n",
    "print(x)\n",
    "print()\n",
    "print(x[2], x[4], x[6])"
   ]
  },
  {
   "cell_type": "code",
   "execution_count": null,
   "metadata": {},
   "outputs": [],
   "source": [
    "# Q20. 10 elemanli random bir vektor olusturunuz ve bu arrayin 4. elemanini farkli bir sayiyla degistiriniz.\n",
    "\n",
    "x = np.random.randint(10, size=10)\n",
    "print(x)\n",
    "print()\n",
    "x[3] = 99999\n",
    "print(x)"
   ]
  },
  {
   "cell_type": "code",
   "execution_count": null,
   "metadata": {},
   "outputs": [],
   "source": [
    "# Q21. “Diagonal Matrix” ve “Trace of Matrix” kavramlari hakkinda kucuk bir arastirma yapip bunlarin ne oldugunu belirten kucuk bir aciklama yaziniz.\n",
    "\n",
    "# Diagonal Matrix: Köşegeni dışındaki değerlerin 0 'sıfır' olduğu kare matrix.\n",
    "# Trace Matrix: Diagonal Matrixteki değerlerin toplanmasıyla elde edilen değer."
   ]
  },
  {
   "cell_type": "code",
   "execution_count": null,
   "metadata": {},
   "outputs": [],
   "source": [
    "# Q22. 5x5’lik Diagonal bir matris olusturunuz ve Diagonaline denk gelen indexlere ulasiniz.(ayri ayri)\n",
    "\n",
    "x = np.random.randint(10, size=(5, 5))\n",
    "print(x)\n",
    "print()\n",
    "x.diagonal()"
   ]
  },
  {
   "cell_type": "code",
   "execution_count": null,
   "metadata": {},
   "outputs": [],
   "source": [
    "# 23.\t10 ile 20 arasinda bir vektor olusturunuz. Ve 3. indexten son indexe kadar olan degerleri yazdiriniz.\n",
    "\n",
    "x = np.arange(10, 20)\n",
    "print(x)\n",
    "print()\n",
    "print(x[3:,])"
   ]
  },
  {
   "cell_type": "code",
   "execution_count": null,
   "metadata": {},
   "outputs": [],
   "source": [
    "# Q24. 10X10 luk bir matris olusturunuz ve ; \n",
    "\n",
    "# • 3.satir ve 5.sutuna ulasiniz. \n",
    "# • 5.sutunun tum satirlarina ulasiniz. \n",
    "# • Tum sutunlarin 2.satirlarina ulasiniz. \n",
    "# • tum sutunlarin 2 ile 7 arasindaki satirlarina ulasiniz. \n",
    "# • satir indexi 2’den 5’e ve sutun indexi 3 den 7’ye kadar olan degerlere ulasiniz. \n",
    "# • satir indexi 5’den en sona ve sutun indexi en bastan 4’e kadar olan degerlere ulasiniz. \n",
    "# • sutun indexi sadece 3, 6, 9 olan kolonlarin(sutunlarin), tum satirlarina ulasiniz. \n",
    "# • 5.indexli satir ve 5.indexli sutuna denk gelen degeri, dogum yilinizla degistiriniz.\n",
    "\n",
    "\n",
    "x = np.arange(100).reshape(10,10)\n",
    "print(x)\n",
    "print()\n",
    "print(x[3, 5])\n",
    "print()\n",
    "print(x[:,5])\n",
    "print()\n",
    "print(x[2,:])\n",
    "print()\n",
    "print(x[2:7,:])\n",
    "print()\n",
    "print(x[2:5,3:7])\n",
    "print()\n",
    "print(x[5:,:4])\n",
    "print()\n",
    "print(x[0:,(3,6,9)])\n",
    "print()\n",
    "x[5, 5] = 1988\n",
    "print(x[5,5])\n",
    "print(x)"
   ]
  },
  {
   "cell_type": "code",
   "execution_count": null,
   "metadata": {},
   "outputs": [],
   "source": [
    "# Q25. 0’dan 50’ye kadar 5’er 5’er atlayarak giden bir array olusturunuz(tek boyutlu) ve numpy metodlariyla asagidaki islemleri uygulayin; \n",
    "# • 20 den buyuk olan kac deger var. \n",
    "# • 30’dan kucuk kac deger var \n",
    "# • icerisinde 33 gecen kac deger var \n",
    "# • olusturulan arrayin tum elemanlarini 5 ile carpin. \n",
    "# • olusturulan arrayin tum elemanlarinin 2 ile bolumunden kalanlari yazdiriniz.\n",
    "\n",
    "x = np.arange(0, 50, 5)\n",
    "print(x)\n",
    "print()\n",
    "print(np.sum(x > 20))\n",
    "print()\n",
    "print(np.sum(x < 30))\n",
    "print()\n",
    "print(np.sum(x == 33))\n",
    "print()\n",
    "print(x * 5)\n",
    "print()\n",
    "print(x%2)"
   ]
  },
  {
   "cell_type": "code",
   "execution_count": null,
   "metadata": {},
   "outputs": [],
   "source": [
    "# Q26. 0 ile 1 arasinda 50 elamanli bir array olusturunuz ve; \n",
    "\n",
    "# • orlamasini aliniz. \n",
    "# • standart sapmasini aliniz. \n",
    "# • varyansini aliniz. \n",
    "# • median’ini aliniz. \n",
    "# • en kucuk degeri bulunuz. \n",
    "# • en buyuk degeri bulunuz.\n",
    "\n",
    "x = np.linspace(0, 1, 50)\n",
    "print(x)\n",
    "print()\n",
    "print('Ortalamasi       : ',x.mean())\n",
    "print()\n",
    "print('Standart Sampasi : ', x.std())\n",
    "print()\n",
    "print('Varyansi         : ', x.var())\n",
    "print()\n",
    "print('Mediani          : ', np.median(x))\n",
    "print()\n",
    "print('En Kucuk Degeri  : ', np.min(x))\n",
    "print()\n",
    "print('En Buyuk Degeri  : ', np.max(x))\n"
   ]
  },
  {
   "cell_type": "code",
   "execution_count": null,
   "metadata": {},
   "outputs": [],
   "source": [
    "# Master odev ; \n",
    "\n",
    "# Bir dongu icerisinde random olacak sekilde iki tane 20x20’luk matris uretin ve \n",
    "# - bu matrislerin farklarini alin. \n",
    "# - Ve fark matrisinin diagonali, -0.1 ile 0.1 arasinda olana kadar bu islemi tekrarlayin. \n",
    "# - Istenilen matris bulundugunda program dursun ve \n",
    "# - toplam kac dongunun kuruldugunu, \n",
    "# - ne kadar sure icinde buldugunu ve \n",
    "# - istenilen matrisi print ile birlikte ekrana yazdiriniz... \n",
    "\n",
    "\n",
    "# Tavsiye: 20 x 20 luk matrisin bulunmasi saatler surebilir. \n",
    "# Bu yuzden algoritmanizin dogrulugunu test etmek icin once 4x4, 5x5 gibi kucuk matrislerde deneyebilirsiniz. \n",
    "# Ve matris sayisisini arttirarak en son 20x20 u deneyebilirsiniz.\n",
    "\n",
    "import numpy as np\n",
    "import time\n",
    "\n",
    "start_time = time.time()\n",
    "count = 0\n",
    "number = 20\n",
    "\n",
    "while True:\n",
    "    count += 1\n",
    "    mat_1 = np.random.rand(number, number)\n",
    "    # print('mat1', mat_1 )\n",
    "    \n",
    "    mat_2 = np.random.rand(number, number)\n",
    "    # print('mat2', mat_2 )\n",
    "\n",
    "    # diago = float(np.diag(mat_1 - mat_2))\n",
    "    diago = np.diag(mat_1 - mat_2)\n",
    "\n",
    "\n",
    "    if (np.all((diago > -0.1) & (diago < 0.1)))==True:\n",
    "        print(diago)\n",
    "        break\n",
    "    else:\n",
    "        continue\n",
    "        \n",
    "finish_time = time.time()\n",
    "\n",
    "print()\n",
    "print('Elapsed Time : ', finish_time - start_time )\n",
    "print()\n",
    "print('Loop Number  : ', count)\n",
    "print()\n",
    "print('Matris       : ', mat_1 - mat_2)"
   ]
  }
 ],
 "metadata": {
  "interpreter": {
   "hash": "66ad2a0fc99eef4a3bf89b375e9b9756c86124817c17e26a015d4a0d647e591d"
  },
  "kernelspec": {
   "display_name": "Python 3.9.11 64-bit",
   "language": "python",
   "name": "python3"
  },
  "language_info": {
   "codemirror_mode": {
    "name": "ipython",
    "version": 3
   },
   "file_extension": ".py",
   "mimetype": "text/x-python",
   "name": "python",
   "nbconvert_exporter": "python",
   "pygments_lexer": "ipython3",
   "version": "3.9.11"
  },
  "orig_nbformat": 4
 },
 "nbformat": 4,
 "nbformat_minor": 2
}
